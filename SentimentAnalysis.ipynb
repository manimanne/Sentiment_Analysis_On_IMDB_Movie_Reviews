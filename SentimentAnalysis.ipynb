{
  "nbformat": 4,
  "nbformat_minor": 0,
  "metadata": {
    "colab": {
      "name": "SentimentAnalysis.ipynb",
      "version": "0.3.2",
      "provenance": [],
      "collapsed_sections": []
    },
    "kernelspec": {
      "name": "python3",
      "display_name": "Python 3"
    },
    "accelerator": "GPU"
  },
  "cells": [
    {
      "cell_type": "markdown",
      "metadata": {
        "id": "qa-KKOyW768N",
        "colab_type": "text"
      },
      "source": [
        "# Problem Description"
      ]
    },
    {
      "cell_type": "markdown",
      "metadata": {
        "id": "qoZqUOpO3n_F",
        "colab_type": "text"
      },
      "source": [
        "This notebook classifies movie reviews as positive or negative using the text of the review. This is an example of binary—or two-class—classification, an important and widely applicable kind of machine learning problem.\n",
        "\n",
        "We'll use the IMDB dataset that contains the text of 50,000 movie reviews from the Internet Movie Database. These are split into 25,000 reviews for training and 25,000 reviews for testing. The training and testing sets are balanced, meaning they contain an equal number of positive and negative reviews."
      ]
    },
    {
      "cell_type": "markdown",
      "metadata": {
        "id": "eXgRTsXf8OGE",
        "colab_type": "text"
      },
      "source": [
        "**1. Load the Requried Libraries**"
      ]
    },
    {
      "cell_type": "code",
      "metadata": {
        "id": "ANkpjZtF56P6",
        "colab_type": "code",
        "outputId": "5e0634d4-db87-474d-a053-7be19926c1b2",
        "colab": {
          "base_uri": "https://localhost:8080/",
          "height": 109
        }
      },
      "source": [
        "from keras.datasets import imdb #To import the IMDB dataset\n",
        "from keras.preprocessing.text import Tokenizer\n",
        "from keras.preprocessing.sequence import pad_sequences\n",
        "from keras.models import Sequential\n",
        "from keras.layers import Dense,Dropout,Embedding,LSTM,Conv1D,MaxPool1D\n",
        "from sklearn import metrics #to evaluate the model\n",
        "import nltk #for data preprocessing\n",
        "from nltk.corpus import stopwords #to remove stopwords\n",
        "from nltk.stem import WordNetLemmatizer #to convert the word to base form\n",
        "nltk.download('stopwords')\n",
        "nltk.download('wordnet')\n",
        "stop = stopwords.words('english')\n",
        "import re \n",
        "import pandas as pd\n",
        "import matplotlib.pyplot as plt\n",
        "import seaborn as sns\n",
        "import warnings\n",
        "warnings.filterwarnings('ignore')"
      ],
      "execution_count": 1,
      "outputs": [
        {
          "output_type": "stream",
          "text": [
            "Using TensorFlow backend.\n"
          ],
          "name": "stderr"
        },
        {
          "output_type": "stream",
          "text": [
            "[nltk_data] Downloading package stopwords to /root/nltk_data...\n",
            "[nltk_data]   Unzipping corpora/stopwords.zip.\n",
            "[nltk_data] Downloading package wordnet to /root/nltk_data...\n",
            "[nltk_data]   Unzipping corpora/wordnet.zip.\n"
          ],
          "name": "stdout"
        }
      ]
    },
    {
      "cell_type": "markdown",
      "metadata": {
        "id": "WJf0M0o69IOU",
        "colab_type": "text"
      },
      "source": [
        "**2.  Load the data**\n",
        "\n",
        "Keras provides access to the IMDB dataset built-in. The imdb.load_data() function allows you to load the dataset in a format that is ready for use in neural network and deep learning models.\n",
        "\n",
        "The words have been replaced by integers that indicate the ordered frequency of each word in the dataset. The sentences in each review are therefore comprised of a sequence of integers."
      ]
    },
    {
      "cell_type": "code",
      "metadata": {
        "id": "P4V6RlPp1ptp",
        "colab_type": "code",
        "colab": {}
      },
      "source": [
        "top_words = 10000 # Here we will use top 10000 words\n",
        "(X_train, y_train), (X_test, y_test) = imdb.load_data(num_words=top_words)"
      ],
      "execution_count": 0,
      "outputs": []
    },
    {
      "cell_type": "code",
      "metadata": {
        "id": "SVPvnxJfmmWl",
        "colab_type": "code",
        "outputId": "c49e86a2-2451-4bd1-a6e5-9cc75f93f251",
        "colab": {
          "base_uri": "https://localhost:8080/",
          "height": 35
        }
      },
      "source": [
        "#Let's look into the Shape of the data\n",
        "X_train.shape,y_train.shape,X_test.shape,y_test.shape"
      ],
      "execution_count": 4,
      "outputs": [
        {
          "output_type": "execute_result",
          "data": {
            "text/plain": [
              "((25000,), (25000,), (25000,), (25000,))"
            ]
          },
          "metadata": {
            "tags": []
          },
          "execution_count": 4
        }
      ]
    },
    {
      "cell_type": "code",
      "metadata": {
        "id": "OVjxaa0PHOuo",
        "colab_type": "code",
        "outputId": "87d08016-ce0f-4a82-9110-3a3b2e117e85",
        "colab": {
          "base_uri": "https://localhost:8080/",
          "height": 35
        }
      },
      "source": [
        "#to get the length of the largest review\n",
        "lengths = []\n",
        "for i in range(0,len(X_train)):\n",
        "  lengths.append(len(X_train[i]))\n",
        "max(lengths)  "
      ],
      "execution_count": 5,
      "outputs": [
        {
          "output_type": "execute_result",
          "data": {
            "text/plain": [
              "2494"
            ]
          },
          "metadata": {
            "tags": []
          },
          "execution_count": 5
        }
      ]
    },
    {
      "cell_type": "code",
      "metadata": {
        "id": "6apvL83KB4pH",
        "colab_type": "code",
        "outputId": "afc736c5-7ff2-435b-a2d3-24a911a24ceb",
        "colab": {
          "base_uri": "https://localhost:8080/",
          "height": 182
        }
      },
      "source": [
        "pd.Series(lengths).describe() # To look into the distribution of the lengths "
      ],
      "execution_count": 6,
      "outputs": [
        {
          "output_type": "execute_result",
          "data": {
            "text/plain": [
              "count    25000.000000\n",
              "mean       238.713640\n",
              "std        176.497204\n",
              "min         11.000000\n",
              "25%        130.000000\n",
              "50%        178.000000\n",
              "75%        291.000000\n",
              "max       2494.000000\n",
              "dtype: float64"
            ]
          },
          "metadata": {
            "tags": []
          },
          "execution_count": 6
        }
      ]
    },
    {
      "cell_type": "code",
      "metadata": {
        "id": "L37sb0Ensrfl",
        "colab_type": "code",
        "colab": {}
      },
      "source": [
        "#Let's see how the review looks like.\n",
        "X_train[1]"
      ],
      "execution_count": 0,
      "outputs": []
    },
    {
      "cell_type": "markdown",
      "metadata": {
        "id": "GIVZ2-OPA671",
        "colab_type": "text"
      },
      "source": [
        "**3. Data Preprocessing**"
      ]
    },
    {
      "cell_type": "code",
      "metadata": {
        "id": "Vz-nT05axQIc",
        "colab_type": "code",
        "colab": {}
      },
      "source": [
        "# A dictionary mapping words to an integer index\n",
        "word_index = imdb.get_word_index()\n",
        "\n",
        "# The first indices are reserved\n",
        "word_index = {k:(v+3) for k,v in word_index.items()}\n",
        "word_index[\"<PAD>\"] = 0\n",
        "word_index[\"<START>\"] = 1\n",
        "word_index[\"<UNK>\"] = 2  # unknown\n",
        "word_index[\"<UNUSED>\"] = 3\n",
        "\n",
        "reverse_word_index = dict([(value, key) for (key, value) in word_index.items()])\n",
        "\n",
        "def decode_review(text):\n",
        "    return ' '.join([reverse_word_index.get(i, '?') for i in text])"
      ],
      "execution_count": 0,
      "outputs": []
    },
    {
      "cell_type": "code",
      "metadata": {
        "id": "EFNUXOyh_4G0",
        "colab_type": "code",
        "colab": {}
      },
      "source": [
        "sorted(word_index.items(),key = lambda kv: kv[1]) #Sorted by values"
      ],
      "execution_count": 0,
      "outputs": []
    },
    {
      "cell_type": "code",
      "metadata": {
        "id": "6j8jmR9wxUBa",
        "colab_type": "code",
        "outputId": "91ccc620-761b-4e9b-aa1b-793302dde3c6",
        "colab": {
          "base_uri": "https://localhost:8080/",
          "height": 55
        }
      },
      "source": [
        "decode_review(X_train[1])"
      ],
      "execution_count": 11,
      "outputs": [
        {
          "output_type": "execute_result",
          "data": {
            "text/plain": [
              "\"<START> big hair big boobs bad music and a giant safety pin these are the words to best describe this terrible movie i love cheesy horror movies and i've seen hundreds but this had got to be on of the worst ever made the plot is paper thin and ridiculous the acting is an abomination the script is completely laughable the best is the end showdown with the cop and how he worked out who the killer is it's just so damn terribly written the clothes are sickening and funny in equal <UNK> the hair is big lots of boobs <UNK> men wear those cut <UNK> shirts that show off their <UNK> sickening that men actually wore them and the music is just <UNK> trash that plays over and over again in almost every scene there is trashy music boobs and <UNK> taking away bodies and the gym still doesn't close for <UNK> all joking aside this is a truly bad film whose only charm is to look back on the disaster that was the 80's and have a good old laugh at how bad everything was back then\""
            ]
          },
          "metadata": {
            "tags": []
          },
          "execution_count": 11
        }
      ]
    },
    {
      "cell_type": "code",
      "metadata": {
        "id": "POUEyFZG1CZT",
        "colab_type": "code",
        "colab": {}
      },
      "source": [
        "for i in range(0,len(X_train)):\n",
        "  X_train[i] = decode_review(X_train[i])"
      ],
      "execution_count": 0,
      "outputs": []
    },
    {
      "cell_type": "code",
      "metadata": {
        "id": "1uil6J5k1RLV",
        "colab_type": "code",
        "outputId": "c074ea67-30ee-4c7e-f3ab-436b132f0ca3",
        "colab": {
          "base_uri": "https://localhost:8080/",
          "height": 55
        }
      },
      "source": [
        "X_train[5]"
      ],
      "execution_count": 13,
      "outputs": [
        {
          "output_type": "execute_result",
          "data": {
            "text/plain": [
              "\"<START> begins better than it ends funny that the russian submarine crew <UNK> all other actors it's like those scenes where documentary shots br br spoiler part the message <UNK> was contrary to the whole story it just does not <UNK> br br\""
            ]
          },
          "metadata": {
            "tags": []
          },
          "execution_count": 13
        }
      ]
    },
    {
      "cell_type": "code",
      "metadata": {
        "id": "1nZNlr6q12CG",
        "colab_type": "code",
        "outputId": "de5f5109-0800-40b1-c620-3ca301331a49",
        "colab": {
          "base_uri": "https://localhost:8080/",
          "height": 35
        }
      },
      "source": [
        "y_train[1:10]"
      ],
      "execution_count": 14,
      "outputs": [
        {
          "output_type": "execute_result",
          "data": {
            "text/plain": [
              "array([0, 0, 1, 0, 0, 1, 0, 1, 0])"
            ]
          },
          "metadata": {
            "tags": []
          },
          "execution_count": 14
        }
      ]
    },
    {
      "cell_type": "code",
      "metadata": {
        "id": "QyWQCQqz8KWN",
        "colab_type": "code",
        "colab": {}
      },
      "source": [
        "def preprocessing(text):\n",
        "  text = re.sub(r'<\\w+>','',text)# We will remove the words that starts with '<' and ends with '>'\n",
        "  text = re.sub(r'[^a-zA-Z]',' ',text)#To remove the numbers and special characters\n",
        "  text = ' '.join([word for word in text.split()])# To remove the whitespaces\n",
        "  text = ' '.join([WordNetLemmatizer().lemmatize(word) for word in text.split() if word not in stop])#To remove the stop words and to convert the words to base form\n",
        "  return text"
      ],
      "execution_count": 0,
      "outputs": []
    },
    {
      "cell_type": "code",
      "metadata": {
        "id": "Lv_OFku8Bokf",
        "colab_type": "code",
        "colab": {}
      },
      "source": [
        "for i in range(0,len(X_train)):\n",
        "  X_train[i] = preprocessing(X_train[i])"
      ],
      "execution_count": 0,
      "outputs": []
    },
    {
      "cell_type": "code",
      "metadata": {
        "id": "axJDRxZBCgM5",
        "colab_type": "code",
        "outputId": "587719a6-f530-43af-a38b-1d9649846fec",
        "colab": {
          "base_uri": "https://localhost:8080/",
          "height": 35
        }
      },
      "source": [
        "#After Preprocessing the data\n",
        "X_train[5]"
      ],
      "execution_count": 17,
      "outputs": [
        {
          "output_type": "execute_result",
          "data": {
            "text/plain": [
              "'begin better end funny russian submarine crew actor like scene documentary shot br br spoiler part message contrary whole story br br'"
            ]
          },
          "metadata": {
            "tags": []
          },
          "execution_count": 17
        }
      ]
    },
    {
      "cell_type": "code",
      "metadata": {
        "id": "yoS46ieHGrxH",
        "colab_type": "code",
        "colab": {}
      },
      "source": [
        "# The maximum number of words to be used. (most frequent)\n",
        "MAX_NB_WORDS = 10000\n",
        "# Max number of words in each complaint.\n",
        "MAX_SEQUENCE_LENGTH = 291\n",
        "# This is fixed.\n",
        "EMBEDDING_DIM = 100 #To convert the each word to vector length of 100."
      ],
      "execution_count": 0,
      "outputs": []
    },
    {
      "cell_type": "code",
      "metadata": {
        "id": "hHqC0hJGG5ns",
        "colab_type": "code",
        "outputId": "c618e211-6adf-4033-8b92-d52ed28dbb44",
        "colab": {
          "base_uri": "https://localhost:8080/",
          "height": 35
        }
      },
      "source": [
        "tokenizer = Tokenizer(num_words=MAX_NB_WORDS, lower=True)\n",
        "tokenizer.fit_on_texts(X_train)\n",
        "word_index = tokenizer.word_index\n",
        "print('Found %s unique tokens.' % len(word_index))"
      ],
      "execution_count": 19,
      "outputs": [
        {
          "output_type": "stream",
          "text": [
            "Found 8365 unique tokens.\n"
          ],
          "name": "stdout"
        }
      ]
    },
    {
      "cell_type": "code",
      "metadata": {
        "id": "8lEuYNoAHZNU",
        "colab_type": "code",
        "colab": {}
      },
      "source": [
        "X = tokenizer.texts_to_sequences(X_train) # We will convert the text data to sequence number."
      ],
      "execution_count": 0,
      "outputs": []
    },
    {
      "cell_type": "code",
      "metadata": {
        "id": "7ma4ksEYHc1e",
        "colab_type": "code",
        "colab": {}
      },
      "source": [
        "X[1]"
      ],
      "execution_count": 0,
      "outputs": []
    },
    {
      "cell_type": "code",
      "metadata": {
        "id": "LmRP8MYFHfXj",
        "colab_type": "code",
        "outputId": "448aba88-a2a5-42df-f79a-32438c29c098",
        "colab": {
          "base_uri": "https://localhost:8080/",
          "height": 35
        }
      },
      "source": [
        "X = pad_sequences(X, maxlen=MAX_SEQUENCE_LENGTH)\n",
        "print('Shape of data tensor:', X.shape)"
      ],
      "execution_count": 22,
      "outputs": [
        {
          "output_type": "stream",
          "text": [
            "Shape of data tensor: (25000, 291)\n"
          ],
          "name": "stdout"
        }
      ]
    },
    {
      "cell_type": "markdown",
      "metadata": {
        "id": "FlrG8ENqFnaU",
        "colab_type": "text"
      },
      "source": [
        "**4. Model Building**"
      ]
    },
    {
      "cell_type": "code",
      "metadata": {
        "id": "2NigympbH3H1",
        "colab_type": "code",
        "outputId": "6977d10c-9483-4344-f497-8a9d1ba3e582",
        "colab": {
          "base_uri": "https://localhost:8080/",
          "height": 329
        }
      },
      "source": [
        "model = Sequential()\n",
        "model.add(Embedding(MAX_NB_WORDS, EMBEDDING_DIM, input_length=X.shape[1]))\n",
        "model.add(Dropout(0.2))# to prevent the model from overfitting\n",
        "model.add(LSTM(100, dropout=0.2, recurrent_dropout=0.2))\n",
        "model.add(Dense(1, activation='sigmoid'))\n",
        "model.compile(loss='binary_crossentropy', optimizer='adam', metrics=['accuracy'])\n",
        "print(model.summary())"
      ],
      "execution_count": 24,
      "outputs": [
        {
          "output_type": "stream",
          "text": [
            "Model: \"sequential_2\"\n",
            "_________________________________________________________________\n",
            "Layer (type)                 Output Shape              Param #   \n",
            "=================================================================\n",
            "embedding_2 (Embedding)      (None, 291, 100)          1000000   \n",
            "_________________________________________________________________\n",
            "dropout_2 (Dropout)          (None, 291, 100)          0         \n",
            "_________________________________________________________________\n",
            "lstm_2 (LSTM)                (None, 100)               80400     \n",
            "_________________________________________________________________\n",
            "dense_2 (Dense)              (None, 1)                 101       \n",
            "=================================================================\n",
            "Total params: 1,080,501\n",
            "Trainable params: 1,080,501\n",
            "Non-trainable params: 0\n",
            "_________________________________________________________________\n",
            "None\n"
          ],
          "name": "stdout"
        }
      ]
    },
    {
      "cell_type": "markdown",
      "metadata": {
        "id": "fr2dhNA_K8JW",
        "colab_type": "text"
      },
      "source": [
        "**4a. Train the Model**"
      ]
    },
    {
      "cell_type": "code",
      "metadata": {
        "id": "JrGiE_AHJfpb",
        "colab_type": "code",
        "outputId": "93c3ef1d-2b28-47cb-a3bc-e9cbdd2d3d71",
        "colab": {
          "base_uri": "https://localhost:8080/",
          "height": 219
        }
      },
      "source": [
        "epochs = 5\n",
        "batch_size = 64\n",
        "history = model.fit(X, y_train, epochs=epochs, batch_size=batch_size,validation_split=0.1)"
      ],
      "execution_count": 25,
      "outputs": [
        {
          "output_type": "stream",
          "text": [
            "Train on 22500 samples, validate on 2500 samples\n",
            "Epoch 1/5\n",
            "22500/22500 [==============================] - 234s 10ms/step - loss: 0.4591 - acc: 0.7830 - val_loss: 0.3681 - val_acc: 0.8452\n",
            "Epoch 2/5\n",
            "22500/22500 [==============================] - 228s 10ms/step - loss: 0.2840 - acc: 0.8904 - val_loss: 0.3314 - val_acc: 0.8644\n",
            "Epoch 3/5\n",
            "22500/22500 [==============================] - 229s 10ms/step - loss: 0.2320 - acc: 0.9108 - val_loss: 0.3291 - val_acc: 0.8696\n",
            "Epoch 4/5\n",
            "22500/22500 [==============================] - 229s 10ms/step - loss: 0.1926 - acc: 0.9267 - val_loss: 0.3546 - val_acc: 0.8820\n",
            "Epoch 5/5\n",
            "22500/22500 [==============================] - 230s 10ms/step - loss: 0.1544 - acc: 0.9436 - val_loss: 0.3874 - val_acc: 0.8708\n"
          ],
          "name": "stdout"
        }
      ]
    },
    {
      "cell_type": "code",
      "metadata": {
        "id": "mGMorxine8Xs",
        "colab_type": "code",
        "outputId": "85e1697c-aa5f-4402-b211-272884363ea5",
        "colab": {
          "base_uri": "https://localhost:8080/",
          "height": 722
        }
      },
      "source": [
        "plt.figure(figsize = (16,12))\n",
        "plt.subplot(121)\n",
        "plt.plot(history.history['loss'],'r',label = 'Training Loss')\n",
        "plt.plot(history.history['val_loss'],'-bo',label = 'Validation Loss')\n",
        "plt.legend()\n",
        "plt.subplot(122)\n",
        "plt.plot(history.history['acc'],'r',label = 'Training Accuracy')\n",
        "plt.plot(history.history['val_acc'],'-bo',label = 'Validation Accuracy')\n",
        "plt.legend()\n"
      ],
      "execution_count": 47,
      "outputs": [
        {
          "output_type": "execute_result",
          "data": {
            "text/plain": [
              "<matplotlib.legend.Legend at 0x7f0724301240>"
            ]
          },
          "metadata": {
            "tags": []
          },
          "execution_count": 47
        },
        {
          "output_type": "display_data",
          "data": {
            "image/png": "[encoded data removed]",
            "text/plain": [
              "<Figure size 1152x864 with 2 Axes>"
            ]
          },
          "metadata": {
            "tags": []
          }
        }
      ]
    },
    {
      "cell_type": "code",
      "metadata": {
        "id": "TT_SALcD6TEJ",
        "colab_type": "code",
        "outputId": "45b4146a-d01b-4903-d6f2-c7dd80f9c5ec",
        "colab": {
          "base_uri": "https://localhost:8080/",
          "height": 329
        }
      },
      "source": [
        "model2 = Sequential()\n",
        "model2.add(Embedding(MAX_NB_WORDS, EMBEDDING_DIM, input_length=X.shape[1]))\n",
        "model2.add(Dropout(0.2))# to prevent the model from overfitting\n",
        "model2.add(LSTM(150, dropout=0.2, recurrent_dropout=0.2))\n",
        "model2.add(Dense(1, activation='sigmoid'))\n",
        "model2.compile(loss='binary_crossentropy', optimizer='adam', metrics=['accuracy'])\n",
        "print(model2.summary())"
      ],
      "execution_count": 27,
      "outputs": [
        {
          "output_type": "stream",
          "text": [
            "Model: \"sequential_3\"\n",
            "_________________________________________________________________\n",
            "Layer (type)                 Output Shape              Param #   \n",
            "=================================================================\n",
            "embedding_3 (Embedding)      (None, 291, 100)          1000000   \n",
            "_________________________________________________________________\n",
            "dropout_3 (Dropout)          (None, 291, 100)          0         \n",
            "_________________________________________________________________\n",
            "lstm_3 (LSTM)                (None, 150)               150600    \n",
            "_________________________________________________________________\n",
            "dense_3 (Dense)              (None, 1)                 151       \n",
            "=================================================================\n",
            "Total params: 1,150,751\n",
            "Trainable params: 1,150,751\n",
            "Non-trainable params: 0\n",
            "_________________________________________________________________\n",
            "None\n"
          ],
          "name": "stdout"
        }
      ]
    },
    {
      "cell_type": "code",
      "metadata": {
        "id": "jEe2XAEs9ajR",
        "colab_type": "code",
        "outputId": "acf8fd20-8653-4788-9751-0012088c97ef",
        "colab": {
          "base_uri": "https://localhost:8080/",
          "height": 219
        }
      },
      "source": [
        "history2 = model2.fit(X, y_train, epochs=epochs, batch_size=batch_size,validation_split=0.1)"
      ],
      "execution_count": 28,
      "outputs": [
        {
          "output_type": "stream",
          "text": [
            "Train on 22500 samples, validate on 2500 samples\n",
            "Epoch 1/5\n",
            "22500/22500 [==============================] - 236s 10ms/step - loss: 0.4336 - acc: 0.7949 - val_loss: 0.3361 - val_acc: 0.8620\n",
            "Epoch 2/5\n",
            "22500/22500 [==============================] - 232s 10ms/step - loss: 0.2741 - acc: 0.8940 - val_loss: 0.3284 - val_acc: 0.8616\n",
            "Epoch 3/5\n",
            "22500/22500 [==============================] - 231s 10ms/step - loss: 0.2228 - acc: 0.9147 - val_loss: 0.3411 - val_acc: 0.8664\n",
            "Epoch 4/5\n",
            "22500/22500 [==============================] - 230s 10ms/step - loss: 0.1873 - acc: 0.9304 - val_loss: 0.3644 - val_acc: 0.8584\n",
            "Epoch 5/5\n",
            "22500/22500 [==============================] - 230s 10ms/step - loss: 0.1589 - acc: 0.9421 - val_loss: 0.3747 - val_acc: 0.8548\n"
          ],
          "name": "stdout"
        }
      ]
    },
    {
      "cell_type": "code",
      "metadata": {
        "id": "XPSCuDSI4CoF",
        "colab_type": "code",
        "colab": {
          "base_uri": "https://localhost:8080/",
          "height": 722
        },
        "outputId": "099f62ed-7ad6-4108-edc6-35cda513939c"
      },
      "source": [
        "plt.figure(figsize = (16,12))\n",
        "plt.subplot(121)\n",
        "plt.plot(history2.history['loss'],'r',label = 'Training Loss')\n",
        "plt.plot(history2.history['val_loss'],'-bo',label = 'Validation Loss')\n",
        "plt.legend()\n",
        "plt.subplot(122)\n",
        "plt.plot(history2.history['acc'],'r',label = 'Training Accuracy')\n",
        "plt.plot(history2.history['val_acc'],'-bo',label = 'Validation Accuracy')\n",
        "plt.legend()"
      ],
      "execution_count": 48,
      "outputs": [
        {
          "output_type": "execute_result",
          "data": {
            "text/plain": [
              "<matplotlib.legend.Legend at 0x7f0723f59978>"
            ]
          },
          "metadata": {
            "tags": []
          },
          "execution_count": 48
        },
        {
          "output_type": "display_data",
          "data": {
            "image/png": "[encoded data removed]",
            "text/plain": [
              "<Figure size 1152x864 with 2 Axes>"
            ]
          },
          "metadata": {
            "tags": []
          }
        }
      ]
    },
    {
      "cell_type": "code",
      "metadata": {
        "id": "eKbkWvzoCC4I",
        "colab_type": "code",
        "outputId": "778f20c2-65db-4045-d4f6-f306cac36552",
        "colab": {
          "base_uri": "https://localhost:8080/",
          "height": 459
        }
      },
      "source": [
        "model3 = Sequential()\n",
        "model3.add(Embedding(MAX_NB_WORDS, EMBEDDING_DIM, input_length=X.shape[1]))\n",
        "model3.add(Dropout(0.2))# to prevent the model from overfitting\n",
        "model3.add(Conv1D(filters=64, kernel_size=3, padding='same', activation='relu'))\n",
        "model3.add(MaxPool1D(pool_size = 2))\n",
        "model3.add(LSTM(200, dropout=0.2, recurrent_dropout=0.2))\n",
        "model3.add(Dense(1, activation='sigmoid'))\n",
        "model3.compile(loss='binary_crossentropy', optimizer='adam', metrics=['accuracy'])\n",
        "print(model3.summary())"
      ],
      "execution_count": 29,
      "outputs": [
        {
          "output_type": "stream",
          "text": [
            "WARNING:tensorflow:From /usr/local/lib/python3.6/dist-packages/keras/backend/tensorflow_backend.py:4267: The name tf.nn.max_pool is deprecated. Please use tf.nn.max_pool2d instead.\n",
            "\n",
            "Model: \"sequential_4\"\n",
            "_________________________________________________________________\n",
            "Layer (type)                 Output Shape              Param #   \n",
            "=================================================================\n",
            "embedding_4 (Embedding)      (None, 291, 100)          1000000   \n",
            "_________________________________________________________________\n",
            "dropout_4 (Dropout)          (None, 291, 100)          0         \n",
            "_________________________________________________________________\n",
            "conv1d_1 (Conv1D)            (None, 291, 64)           19264     \n",
            "_________________________________________________________________\n",
            "max_pooling1d_1 (MaxPooling1 (None, 145, 64)           0         \n",
            "_________________________________________________________________\n",
            "lstm_4 (LSTM)                (None, 200)               212000    \n",
            "_________________________________________________________________\n",
            "dense_4 (Dense)              (None, 1)                 201       \n",
            "=================================================================\n",
            "Total params: 1,231,465\n",
            "Trainable params: 1,231,465\n",
            "Non-trainable params: 0\n",
            "_________________________________________________________________\n",
            "None\n"
          ],
          "name": "stdout"
        }
      ]
    },
    {
      "cell_type": "code",
      "metadata": {
        "id": "RkWeQKh0Bz-b",
        "colab_type": "code",
        "outputId": "11deb6c4-d32e-4a00-f375-b825fc747c78",
        "colab": {
          "base_uri": "https://localhost:8080/",
          "height": 219
        }
      },
      "source": [
        "history3 = model3.fit(X, y_train, epochs=epochs, batch_size=batch_size,validation_split=0.2)"
      ],
      "execution_count": 30,
      "outputs": [
        {
          "output_type": "stream",
          "text": [
            "Train on 20000 samples, validate on 5000 samples\n",
            "Epoch 1/5\n",
            "20000/20000 [==============================] - 115s 6ms/step - loss: 0.4235 - acc: 0.7910 - val_loss: 0.2939 - val_acc: 0.8806\n",
            "Epoch 2/5\n",
            "20000/20000 [==============================] - 112s 6ms/step - loss: 0.2402 - acc: 0.9063 - val_loss: 0.3008 - val_acc: 0.8784\n",
            "Epoch 3/5\n",
            "20000/20000 [==============================] - 112s 6ms/step - loss: 0.1804 - acc: 0.9339 - val_loss: 0.3041 - val_acc: 0.8776\n",
            "Epoch 4/5\n",
            "20000/20000 [==============================] - 112s 6ms/step - loss: 0.1398 - acc: 0.9493 - val_loss: 0.3447 - val_acc: 0.8778\n",
            "Epoch 5/5\n",
            "20000/20000 [==============================] - 112s 6ms/step - loss: 0.1039 - acc: 0.9642 - val_loss: 0.3995 - val_acc: 0.8780\n"
          ],
          "name": "stdout"
        }
      ]
    },
    {
      "cell_type": "code",
      "metadata": {
        "id": "g7SCl-jC4JOE",
        "colab_type": "code",
        "colab": {
          "base_uri": "https://localhost:8080/",
          "height": 722
        },
        "outputId": "f22468f6-72b2-43ce-c043-4c40ba0c50db"
      },
      "source": [
        "plt.figure(figsize = (16,12))\n",
        "plt.subplot(121)\n",
        "plt.plot(history3.history['loss'],'r',label = 'Training Loss')\n",
        "plt.plot(history3.history['val_loss'],'-bo',label = 'Validation Loss')\n",
        "plt.legend()\n",
        "plt.subplot(122)\n",
        "plt.plot(history3.history['acc'],'r',label = 'Training Accuracy')\n",
        "plt.plot(history3.history['val_acc'],'-bo',label = 'Validation Accuracy')\n",
        "plt.legend()"
      ],
      "execution_count": 49,
      "outputs": [
        {
          "output_type": "execute_result",
          "data": {
            "text/plain": [
              "<matplotlib.legend.Legend at 0x7f0723e13710>"
            ]
          },
          "metadata": {
            "tags": []
          },
          "execution_count": 49
        },
        {
          "output_type": "display_data",
          "data": {
            "image/png": "[encoded data removed]",
            "text/plain": [
              "<Figure size 1152x864 with 2 Axes>"
            ]
          },
          "metadata": {
            "tags": []
          }
        }
      ]
    },
    {
      "cell_type": "markdown",
      "metadata": {
        "id": "uZTGB_E3LES9",
        "colab_type": "text"
      },
      "source": [
        "**4b. Test the model on Test data**"
      ]
    },
    {
      "cell_type": "code",
      "metadata": {
        "id": "6iiBcADzivhY",
        "colab_type": "code",
        "colab": {}
      },
      "source": [
        "#Preprocess the test data\n",
        "def text_preprocess(text):\n",
        "  text = decode_review(text)\n",
        "  text = preprocessing(text)\n",
        "  return text"
      ],
      "execution_count": 0,
      "outputs": []
    },
    {
      "cell_type": "code",
      "metadata": {
        "id": "bbw7wAg_kDik",
        "colab_type": "code",
        "colab": {}
      },
      "source": [
        "for i in range(0,len(X_test)):\n",
        "  X_test[i] = text_preprocess(X_test[i])"
      ],
      "execution_count": 0,
      "outputs": []
    },
    {
      "cell_type": "code",
      "metadata": {
        "id": "Xz_QQLoYkrdq",
        "colab_type": "code",
        "colab": {}
      },
      "source": [
        "X_test = tokenizer.texts_to_sequences(X_test)\n",
        "X_test = pad_sequences(X_test, maxlen=MAX_SEQUENCE_LENGTH)"
      ],
      "execution_count": 0,
      "outputs": []
    },
    {
      "cell_type": "code",
      "metadata": {
        "id": "VBcncl7jlNZe",
        "colab_type": "code",
        "colab": {}
      },
      "source": [
        "test_predictions = model.predict_classes(X_test)"
      ],
      "execution_count": 0,
      "outputs": []
    },
    {
      "cell_type": "code",
      "metadata": {
        "id": "Vl07IlDTlf2n",
        "colab_type": "code",
        "outputId": "ff325f82-1aa9-4c36-dbe4-0c30bce0857f",
        "colab": {
          "base_uri": "https://localhost:8080/",
          "height": 182
        }
      },
      "source": [
        "print(metrics.classification_report(test_predictions,y_test))"
      ],
      "execution_count": 35,
      "outputs": [
        {
          "output_type": "stream",
          "text": [
            "              precision    recall  f1-score   support\n",
            "\n",
            "           0       0.83      0.87      0.85     11851\n",
            "           1       0.88      0.84      0.86     13149\n",
            "\n",
            "    accuracy                           0.86     25000\n",
            "   macro avg       0.86      0.86      0.85     25000\n",
            "weighted avg       0.86      0.86      0.86     25000\n",
            "\n"
          ],
          "name": "stdout"
        }
      ]
    },
    {
      "cell_type": "code",
      "metadata": {
        "id": "gTDxxwOUm3PQ",
        "colab_type": "code",
        "outputId": "5fbd1a13-d9d0-46e0-a8ae-df9285321e1e",
        "colab": {
          "base_uri": "https://localhost:8080/",
          "height": 287
        }
      },
      "source": [
        "#Confusion Matrix\n",
        "sns.heatmap(metrics.confusion_matrix(test_predictions,y_test),annot = True,fmt = 'd')"
      ],
      "execution_count": 36,
      "outputs": [
        {
          "output_type": "execute_result",
          "data": {
            "text/plain": [
              "<matplotlib.axes._subplots.AxesSubplot at 0x7f072446f128>"
            ]
          },
          "metadata": {
            "tags": []
          },
          "execution_count": 36
        },
        {
          "output_type": "display_data",
          "data": {
            "image/png": "[encoded data removed]",
            "text/plain": [
              "<Figure size 432x288 with 2 Axes>"
            ]
          },
          "metadata": {
            "tags": []
          }
        }
      ]
    },
    {
      "cell_type": "code",
      "metadata": {
        "id": "4Y6EpJM40M1r",
        "colab_type": "code",
        "colab": {}
      },
      "source": [
        "test_predictions2 = model2.predict_classes(X_test)"
      ],
      "execution_count": 0,
      "outputs": []
    },
    {
      "cell_type": "code",
      "metadata": {
        "id": "rKMUzfui0Voh",
        "colab_type": "code",
        "colab": {
          "base_uri": "https://localhost:8080/",
          "height": 182
        },
        "outputId": "b3eab3f3-bc0a-48a3-f4bf-6a48042c21a4"
      },
      "source": [
        "print(metrics.classification_report(test_predictions2,y_test))"
      ],
      "execution_count": 39,
      "outputs": [
        {
          "output_type": "stream",
          "text": [
            "              precision    recall  f1-score   support\n",
            "\n",
            "           0       0.89      0.82      0.85     13683\n",
            "           1       0.80      0.88      0.84     11317\n",
            "\n",
            "    accuracy                           0.85     25000\n",
            "   macro avg       0.85      0.85      0.85     25000\n",
            "weighted avg       0.85      0.85      0.85     25000\n",
            "\n"
          ],
          "name": "stdout"
        }
      ]
    },
    {
      "cell_type": "code",
      "metadata": {
        "id": "7SJa3IOO0WeB",
        "colab_type": "code",
        "colab": {
          "base_uri": "https://localhost:8080/",
          "height": 287
        },
        "outputId": "ffae2729-1855-43d8-b62b-f0fb81e5947c"
      },
      "source": [
        "sns.heatmap(metrics.confusion_matrix(test_predictions2,y_test),annot = True,fmt = 'd')"
      ],
      "execution_count": 40,
      "outputs": [
        {
          "output_type": "execute_result",
          "data": {
            "text/plain": [
              "<matplotlib.axes._subplots.AxesSubplot at 0x7f071bfcfd68>"
            ]
          },
          "metadata": {
            "tags": []
          },
          "execution_count": 40
        },
        {
          "output_type": "display_data",
          "data": {
            "image/png": "[encoded data removed]",
            "text/plain": [
              "<Figure size 432x288 with 2 Axes>"
            ]
          },
          "metadata": {
            "tags": []
          }
        }
      ]
    },
    {
      "cell_type": "code",
      "metadata": {
        "id": "7kpuUsuX0GE9",
        "colab_type": "code",
        "colab": {}
      },
      "source": [
        "test_predictions3 = model3.predict_classes(X_test)"
      ],
      "execution_count": 0,
      "outputs": []
    },
    {
      "cell_type": "code",
      "metadata": {
        "id": "-A1kprF80emi",
        "colab_type": "code",
        "colab": {
          "base_uri": "https://localhost:8080/",
          "height": 182
        },
        "outputId": "35c2971b-8c37-47ad-cc3c-85adff0c3f07"
      },
      "source": [
        "print(metrics.classification_report(test_predictions3,y_test))"
      ],
      "execution_count": 41,
      "outputs": [
        {
          "output_type": "stream",
          "text": [
            "              precision    recall  f1-score   support\n",
            "\n",
            "           0       0.86      0.86      0.86     12551\n",
            "           1       0.85      0.86      0.86     12449\n",
            "\n",
            "    accuracy                           0.86     25000\n",
            "   macro avg       0.86      0.86      0.86     25000\n",
            "weighted avg       0.86      0.86      0.86     25000\n",
            "\n"
          ],
          "name": "stdout"
        }
      ]
    },
    {
      "cell_type": "code",
      "metadata": {
        "id": "ynBFl4DR0gZf",
        "colab_type": "code",
        "colab": {
          "base_uri": "https://localhost:8080/",
          "height": 287
        },
        "outputId": "0fcd1bf7-7500-40c5-e2bd-226c5388dabb"
      },
      "source": [
        "sns.heatmap(metrics.confusion_matrix(test_predictions3,y_test),annot = True,fmt = 'd')"
      ],
      "execution_count": 42,
      "outputs": [
        {
          "output_type": "execute_result",
          "data": {
            "text/plain": [
              "<matplotlib.axes._subplots.AxesSubplot at 0x7f071be50668>"
            ]
          },
          "metadata": {
            "tags": []
          },
          "execution_count": 42
        },
        {
          "output_type": "display_data",
          "data": {
            "image/png": "[encoded data removed]",
            "text/plain": [
              "<Figure size 432x288 with 2 Axes>"
            ]
          },
          "metadata": {
            "tags": []
          }
        }
      ]
    }
  ]
}